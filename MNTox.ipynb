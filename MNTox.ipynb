{
 "cells": [
  {
   "cell_type": "code",
   "execution_count": null,
   "id": "4956728e",
   "metadata": {},
   "outputs": [],
   "source": [
    "from datetime import datetime, date, time\n",
    "import pandas as pd\n",
    "import numpy as np\n",
    "\n",
    "from matchms.importing import load_from_msp\n",
    "import matchms.filtering as ms_filters\n",
    "from matchms import calculate_scores\n",
    "from matchms.similarity import CosineGreedy\n",
    "from matchms import Spectrum\n",
    "\n",
    "import networkx as nx\n",
    "import matchmsextras.networking as net\n",
    "from matchms.networking import SimilarityNetwork"
   ]
  },
  {
   "cell_type": "code",
   "execution_count": null,
   "id": "fe156c1a",
   "metadata": {},
   "outputs": [],
   "source": [
    "tox21_compoundData=pd.read_csv('http://bioinf.jku.at/research/DeepTox/tox21_compoundData.csv')\n",
    "columns_to_keep = list(tox21_compoundData.columns[1:2]) + list(tox21_compoundData.columns[-12:])\n",
    "tox21_compoundData_short = tox21_compoundData[columns_to_keep]\n",
    "df_combined = tox21_compoundData_short.groupby('inchikey').max().reset_index()\n",
    "df_combined.replace('NaN', np.nan, inplace=True)\n",
    "df_combined.dropna(how='all', inplace=True)\n",
    "df_combined.set_index('inchikey', inplace=True)\n",
    "inchikeys_tox21=df_combined.index.tolist()\n",
    "tox_dict = df_combined.to_dict(orient='index')"
   ]
  },
  {
   "cell_type": "code",
   "execution_count": null,
   "id": "69a0e404",
   "metadata": {},
   "outputs": [],
   "source": [
    "import csv\n",
    "import numpy as np\n",
    "from matchms import Spectrum\n",
    "spectrums=[]\n",
    "with open('DDA_Pos_EF.csv', 'r', encoding='utf-8-sig') as file:\n",
    "    reader = csv.reader(file, delimiter=';')\n",
    "    for row in reader:\n",
    "        if row[0] == 'id' or not row[0]:\n",
    "            continue\n",
    "        mz_intensities = row[1].split(' ')\n",
    "        mz_values, intensity_values = zip(*[mz_intensity.split(':') for mz_intensity in mz_intensities])\n",
    "        spectrum = Spectrum(mz=np.array(list(map(float, mz_values))),\n",
    "                            intensities=np.array(list(map(float, intensity_values))),\n",
    "                            metadata={'id': row[0],\n",
    "                                      'num_peaks': len(mz_values)})\n",
    "        spectrums.append(spectrum)"
   ]
  },
  {
   "cell_type": "code",
   "execution_count": null,
   "id": "0209fc5c",
   "metadata": {
    "scrolled": true
   },
   "outputs": [],
   "source": [
    "import matchms.filtering as ms_filters\n",
    "def peak_processing(spectrum):\n",
    "    spectrum = ms_filters.default_filters(spectrum)\n",
    "    spectrum = ms_filters.normalize_intensities(spectrum)\n",
    "    spectrum = ms_filters.select_by_intensity(spectrum, intensity_from=0.05)\n",
    "    return spectrum\n",
    "spectrums = [peak_processing(s) for s in spectrums]\n",
    "\n",
    "transformed_spectrums = []\n",
    "for spectrum in spectrums:\n",
    "    transformed_intensities = np.sqrt(spectrum.intensities)  \n",
    "    transformed_spectrum = Spectrum(mz=spectrum.mz, intensities=transformed_intensities, metadata=spectrum.metadata)\n",
    "    transformed_spectrums.append(transformed_spectrum)\n",
    "spectrums=transformed_spectrums\n",
    "spectrums_features=[s for s in spectrums if len(s.peaks)>=3]"
   ]
  },
  {
   "cell_type": "code",
   "execution_count": null,
   "id": "b42f8eba",
   "metadata": {},
   "outputs": [],
   "source": [
    "network = nx.read_graphml('network.graphml')\n",
    "nodes=list(network.nodes())\n",
    "spectrums=[]\n",
    "spectrums = list(load_from_msp(\"mass_spectra.msp\"))\n",
    "spectrums_Net=[s for s in spectrums if s.get('inchikey') in nodes]"
   ]
  },
  {
   "cell_type": "code",
   "execution_count": null,
   "id": "ce9c606a",
   "metadata": {},
   "outputs": [],
   "source": [
    "for f in spectrums_features:\n",
    "    \n",
    "    print(datetime.now().strftime('%d-%m-%Y %H:%M'))\n",
    "    print('Feature ID: ', f.get('id'))\n",
    "    id_feature=f.get('id')\n",
    "    \n",
    "    spectrums=[]\n",
    "    spectrums=spectrums_Net+[f]\n",
    "    \n",
    "    similarity_measure = CosineGreedy(tolerance=0.1)\n",
    "    scores = calculate_scores(spectrums, spectrums, similarity_measure, is_symmetric=True)\n",
    "    scores_array = scores.scores.to_array()\n",
    "    \n",
    "    filtered_indexes = np.where(np.logical_and(scores_array[-1]['CosineGreedy_matches'] >= 3, scores_array[-1]['CosineGreedy_score'] >= 0.6))\n",
    "\n",
    "    connected_active=0\n",
    "    connected_inactive=0    \n",
    "\n",
    "    for index in filtered_indexes[0][:-1]:\n",
    "        inchikey = spectrums_Net[index].get('inchikey')\n",
    "        activity = tox_dict[inchikey]['NR.AR']\n",
    "        if activity == 1:\n",
    "            connected_active += 1 \n",
    "        if activity == 0:\n",
    "            connected_inactive += 1\n",
    "        network.add_node(id_feature, num_peaks=len(f.peaks))\n",
    "        score, matches = scores_array[-1][index]\n",
    "        network.add_edge(id_feature, inchikey, score=score, matches=matches)\n",
    "    print('connected_active',connected_active)\n",
    "    print('connected_inactive',connected_inactive)\n",
    "    \n",
    "    if connected_active >= connected_inactive and connected_active!= 0:        \n",
    "        print('Alert: active connected nodes greater than inactive nodes')\n",
    "    print()"
   ]
  },
  {
   "cell_type": "code",
   "execution_count": null,
   "id": "69f41116",
   "metadata": {},
   "outputs": [],
   "source": [
    "len(spectrums_Net)"
   ]
  }
 ],
 "metadata": {
  "kernelspec": {
   "display_name": "Python 3 (ipykernel)",
   "language": "python",
   "name": "python3"
  },
  "language_info": {
   "codemirror_mode": {
    "name": "ipython",
    "version": 3
   },
   "file_extension": ".py",
   "mimetype": "text/x-python",
   "name": "python",
   "nbconvert_exporter": "python",
   "pygments_lexer": "ipython3",
   "version": "3.8.16"
  }
 },
 "nbformat": 4,
 "nbformat_minor": 5
}
